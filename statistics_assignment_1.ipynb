{
  "nbformat": 4,
  "nbformat_minor": 0,
  "metadata": {
    "colab": {
      "provenance": []
    },
    "kernelspec": {
      "name": "python3",
      "display_name": "Python 3"
    },
    "language_info": {
      "name": "python"
    }
  },
  "cells": [
    {
      "cell_type": "markdown",
      "source": [
        "# Statistics Assignment 1\n",
        "# Basics Of Statistics\n"
      ],
      "metadata": {
        "id": "t3pYureTJzgT"
      }
    },
    {
      "cell_type": "markdown",
      "source": [
        " # Q-1. Explain the different types of data (qualitative and quantitative) and provide examples of each. Discuss nominal, ordinal, interval, and ratio scales\n",
        "\n",
        "   -> In statisctics usually data has been divided into two main types :-\n",
        "\n",
        "    1)Quantitative Data\n",
        "    2)Qualitative Data\n",
        "     \n",
        "     1)Quantitavive Data:-\n",
        "\n",
        "      It represent data which can be measured numerically.\n",
        "      e.g. : test score , age, height etc.\n",
        "\n",
        "     It is further divided into two types:-\n",
        "\n",
        "     a) Discrete Data:\n",
        "        Countable values e.g. number of pets.\n",
        "\n",
        "     b) Continuous Data: It can take any\n",
        "        value within a range e.g. weight, temperature\n",
        "\n",
        "    2) Qualitative Data :-\n",
        "\n",
        "        Qualitative data is non-numerical and describes qualities or categories.\n",
        "        e.g. satisfaction rating, rank of university.\n",
        "\n",
        "      It is further divided into two types:-\n",
        "\n",
        "        a) Nominal Data:\n",
        "            Categories without natural order.\n",
        "            e.g. colors.\n",
        "\n",
        "        b) Ordinal Data:\n",
        "            Categories with a logical order.\n",
        "            e.g. ranking in a class based on score\n",
        "\n",
        "     Levels of Measurement:\n",
        "\n",
        "     A. Nominal Scale :\n",
        "        Measures qualitative data with no natural order or ranking.Only used to label.\n",
        "        e.g.: Color: Red,White\n",
        "\n",
        "     B. Ordinal Scale :\n",
        "        Qualitative data that can be ordered, but the differences between them are not measurable.\n",
        "        e.g.: Food ratings: poor, fair, good\n",
        "\n",
        "     C. Interval Scale :\n",
        "        Quantitavive data where differences are meaningful, but there’s no true zero point i.e., zero doesn’t mean absence of value.\n",
        "        e.g.: Temperature\n",
        "\n",
        "     D. Ratio Scale :\n",
        "        Quantative data with a true zero, which allows for meaningful comparisons using multiplication and division.\n",
        "        e.g.: Weight,Income.\n",
        "\n",
        "\n",
        "\n",
        "\n",
        "\n",
        "\n",
        "\n",
        "    \n",
        "\n"
      ],
      "metadata": {
        "id": "McQEWE-iKbUT"
      }
    },
    {
      "cell_type": "markdown",
      "source": [
        "# Q.2 What are the measures of central tendency, and when should you use each? Discuss the mean, median, and mode with examples and situations where each is appropriate.\n",
        "\n",
        "->\n",
        "\n",
        "Measures of central tendency are statistical tools used to identify the center of a dataset. The three main measures are mean, median, and mode.\n",
        "\n",
        "1. Mean : is a arithmetic average of the given data set or the mean is the sum of all values divided by the number of values.\n",
        "\n",
        "Example:\n",
        "Test scores: 40, 45, 50, 55, 60\n",
        "Mean = (40 + 45 + 50 + 55 + 60) / 5 = 250 / 5 = 50\n",
        "\n",
        "Use Case:\n",
        "\n",
        "When the data is quantitative and symmetric with no extreme outliers.\n",
        "\n",
        "2. Median\n",
        "\n",
        "The median is the middle value in an ordered dataset.\n",
        "\n",
        "Example:\n",
        "Income: RS80k, RS75k, RS60k, RS50k, RS800k\n",
        "Median = RS75k\n",
        "\n",
        "Use case:\n",
        "\n",
        "When the data is skewed or has outliers.\n",
        "\n",
        "3. Mode\n",
        "The mode is the value that occurs most frequently in a dataset.\n",
        "\n",
        "Example:\n",
        "Survey responses on favorite car: swift, baleno, baleno, ignis, baleno, swift\n",
        "Mode = baleno\n",
        "\n",
        "Use case:\n",
        "\n",
        "With categorical data e.g., favorite brand, most common dish."
      ],
      "metadata": {
        "id": "ezr5hvTuBKsN"
      }
    },
    {
      "cell_type": "markdown",
      "source": [
        "# Q.3 Explain the concept of dispersion. How do variance and standard deviation measure the spread of data?\n",
        "\n",
        "->\n",
        "\n",
        "Dispersion shows how much the data values differ from the mean, meaning how scattered the given data set is. A high dispersion means data points are widely spread; low dispersion means they are close together.\n",
        "\n",
        "Variance and Standard Deviation\n",
        "\n",
        "1. Variance\n",
        "It measures the average of the squared differences between each data point and the mean. As it involves square, it's more affected by outiliers.\n",
        "\n",
        "2. Standard Deviation:\n",
        "Standard deviation is the square root of variance. It provides a measure of spread in the same units as the data. As square affect is handled its more practicle to use.\n",
        "\n",
        "\n"
      ],
      "metadata": {
        "id": "c30sK5AkFq03"
      }
    },
    {
      "cell_type": "markdown",
      "source": [
        "# Q.4 What is a box plot, and what can it tell you about the distribution of data?  \n",
        "\n",
        "->\n",
        "Box Plot:\n",
        "A box plot also called a box-whisker plot is a graphical representation of a dataset, shows distribution,spread and outlier.Outliers are plotted as dots beyond the whiskers\n",
        "\n",
        "What a Box Plot Tells You About a Distribution:\n",
        "\n",
        "Center of the Data.\n",
        "\n",
        "Spread of the Data.\n",
        "\n",
        "Skewness (Asymmetry):\n",
        "\n",
        "If the median is closer to Q1, and the upper whisker is longer, the data is right-skewed.\n",
        "\n",
        "If the median is closer to Q3, and the lower whisker is longer, the data is left-skewed.\n",
        "\n",
        "If the median is centered, the distribution is likely symmetric.\n",
        "\n",
        "Outliers:\n",
        "\n",
        "Points that lie 1.5×IQR above Q3 or below Q1 are plotted separately as outliers.\n",
        "\n",
        " Use case of a Box Plot:\n",
        "Quickly visualize distribution, central tendency, and variability.\n",
        "\n",
        "Identify outliers or unusual patterns.\n",
        "\n",
        "A box plot is a powerful tool to summarize a dataset and reveal its distribution shape, variability, central tendency, and outliers."
      ],
      "metadata": {
        "id": "__6d9NRKKnj3"
      }
    },
    {
      "cell_type": "markdown",
      "source": [
        "# Q.5. Discuss the role of random sampling in making inferences about populations.\n",
        "\n",
        "->\n",
        "Role of Random Sampling in Making Inferences About Populations :\n",
        "\n",
        "   In statistics random sampling is used to make inferences about a population based on a sample. It ensures that every member of the population has an equal chance of being selected, helping to produce unbiased results.\n",
        "\n",
        "Why Random Sampling Matters:\n",
        "\n",
        "   Represents the Population Accurately\n",
        "\n",
        "   A random sample reflects the characteristics of the population.\n",
        "\n",
        "   Reduces the risk of sampling bias, where certain groups are over- or underrepresented.\n",
        "\n",
        "   Supports Generalizability-Findings from a well-conducted random sample can be generalized to the larger population.\n",
        "\n",
        "\n",
        "\n",
        "Types of Random Sampling:\n",
        "\n",
        "   Simple Random Sampling\n",
        "   Every individual has an equal chance.\n",
        "\n",
        "   Systematic Sampling\n",
        "   Every nth member is selected.\n",
        "\n",
        "   Stratified Sampling\n",
        "   Population is divided into subgroups, then randomly sampled from each.\n",
        "\n",
        "   Cluster Sampling\n",
        "   Randomly selecting entire groups.\n",
        "\n",
        "\n",
        "Random sampling is essential for making accurate, unbiased, and generalizable inferences about a population.\n",
        "\n"
      ],
      "metadata": {
        "id": "ZC-O1ulhNFoq"
      }
    },
    {
      "cell_type": "markdown",
      "source": [
        "#Q.6. Explain the concept of skewness and its types. How does skewness affect the interpretation of data?\n",
        "\n",
        "In statistics skewness describes the asymmetry of a distribution around its mean. In a perfectly symmetrical distribution, the mean, median, and mode are all equal, and skewness is zero.\n",
        "\n",
        "When the distribution is not symmetrical, it is said to be skewed, and this affects how we interpret central tendency and the spread of data.\n",
        "\n",
        "Types of Skewness\n",
        "\n",
        "1. Positive Skew (Right Skewed)\n",
        "Tail is longer on the right side.\n",
        "\n",
        "Most data points are clustered on the left, with a few high outliers.\n",
        "\n",
        "Mean > Median > Mode\n",
        "\n",
        "2. Negative Skew (Left Skewed)\n",
        "Tail is longer on the left side.\n",
        "\n",
        "Most data points are clustered on the right, with a few low outliers.\n",
        "\n",
        "Mode > Median > Mean\n",
        "\n",
        "3. Zero Skewness (Symmetrical Distribution)\n",
        "Tails are balanced on both sides.\n",
        "\n",
        "Mean = Median = Mode\n",
        "\n",
        "Typically seen in normal distributions (bell-shaped curves).\n",
        "\n",
        "How Skewness Affects Interpretation of Data:\n",
        "\n",
        "In skewed distributions, the median is a better measure of central tendency than the mean, because it's less affected by outliers.\n",
        "\n",
        "\n",
        "Skewness ≈ 0 → Symmetrical\n",
        "\n",
        "Skewness > 0 → Right skew\n",
        "\n",
        "Skewness < 0 → Left skew\n",
        "\n",
        "Skewness helps us understand the shape of a dataset. It influences which measures of central tendency are appropriate and alos alerts us to outliers."
      ],
      "metadata": {
        "id": "6IAKHHarpwL1"
      }
    },
    {
      "cell_type": "markdown",
      "source": [
        "#Q7. What is the interquartile range (IQR), and how is it used to detect outliers?\n",
        "\n",
        "->\n",
        "Interquartile Range (IQR) :\n",
        "The IQR is a measure of dispersion—it tells us how spread out the middle 50% of a dataset is. It is calculated as the difference between the third quartile (Q3) and the first quartile (Q1):\n",
        "\n",
        "IQR=Q3−Q1\n",
        "\n",
        "we can use IQR to Detect Outliers\n",
        "using the IQR rule:\n",
        "\n",
        "Lower fence =Q1−1.5×IQR\n",
        "\n",
        "Upper fence=Q3+1.5×IQR\n",
        "\n",
        "Any data point below the lower fence or above the upper fence is considered outlier.\n",
        "\n",
        "IQR is a powerful tool for understanding the spread of the middle half of data and identifying outliers. It's especially useful when dealing with skewed distributions ."
      ],
      "metadata": {
        "id": "ilBbQ3jFifst"
      }
    },
    {
      "cell_type": "markdown",
      "source": [
        "# Q 8. Discuss the conditions under which the binomial distribution is used.\n",
        "\n",
        "->\n",
        "\n",
        "Binomial Distribution :\n",
        "\n",
        "The binomial distribution is a discrete probability distribution used to model the number of successes in a fixed number of independent trials, where each trial has only two possible outcomes: success or failure.\n",
        "\n",
        "Following four conditions must be met for Using the Binomial Distribution :\n",
        "\n",
        "1. Fixed Number of Trials - the number\n",
        "   of times the event to be performed should be predertmined.\n",
        "\n",
        "2. Only Two Possible Outcomes per Trial\n",
        "   - means possibility of a outcome should be .5.\n",
        "\n",
        "3. Constant Probability of Success-\n",
        "   The probability of success remains the same for each trial.\n",
        "\n",
        "     Example: The chance of getting heads on a fair coin is always 0.5.\n",
        "\n",
        "4. Independent Trials- The outcome of\n",
        "   one trial does not affect the outcome of another."
      ],
      "metadata": {
        "id": "0ct26r-_lkfa"
      }
    },
    {
      "cell_type": "markdown",
      "source": [
        "#Q 9. Explain the properties of the normal distribution and the empirical rule (68-95-99.7 rule)\n",
        "\n",
        "Normal Distribution:\n",
        "\n",
        " The normal distribution is a continuous probability distribution that is symmetrical about its mean.\n",
        "\n",
        "Key Properties of the Normal Distribution:\n",
        "\n",
        "Symmetry\n",
        "\n",
        "It's perfectly symmetrical about the mean.\n",
        "\n",
        "So, mean = median = mode.\n",
        "\n",
        "Bell-Shaped Curve\n",
        "\n",
        "Most of the data clusters around the mean.\n",
        "\n",
        "The Empirical Rule (68-95-99.7 Rule):\n",
        "  The Empirical Rule helps us understand how data is distributed in a normal distribution based on standard deviations from the mean:\n",
        "\n",
        "For a normal distribution:\n",
        "68% of the data lies within 1 standard deviation of the mean.\n",
        "\n",
        "95% lies within 2 standard deviations\n",
        "\n",
        "99.7% lies within 3 standard deviations\n",
        "\n",
        "Normal distribution is a foundational concept in statistics due to its symmetry and natural occurrence. The Empirical Rule gives a quick estimate of data spread."
      ],
      "metadata": {
        "id": "NP9CvjG61Efo"
      }
    },
    {
      "cell_type": "code",
      "source": [
        "''' Q 10. Provide a real-life example of a Poisson process and calculate the probability for a specific event.\n",
        "\n",
        "ANS ->\n",
        "\n",
        "Poisson process describes the number of times an event occurs in a fixed interval of time — given the events happen independently and at a constant average rate.\n",
        "\n",
        "Real-Life Example of a Poisson Process Scenario: A temple visit by devotees on an average is 3 devotees per hour. This follows a Poisson process, where:.\n",
        "\n",
        "The average rate is 3 devotees/hour.\n",
        "\n",
        "Calculating probability:\n",
        "\n",
        "What is the probability that exactly 5 devotees will arrive in a given hour?'''\n",
        "\n",
        "import numpy as np\n",
        "import math\n",
        "\n",
        "# Parameters\n",
        "λ = 3  # average rate (3 devotees/hour)\n",
        "k = 5  # number of arrivals we want probability for\n",
        "\n",
        "# Poisson probability calculation using NumPy and math\n",
        "probability = (np.exp(-λ) * λ**k) / math.factorial(k)\n",
        "\n",
        "# Convert to percentage\n",
        "probability_percent = probability * 100\n",
        "\n",
        "print(f\"Probability that exactly {k} devotees arrive in one hour: {probability_percent:.2f}%\")\n",
        "\n",
        "'''Answer would be : approximately 10.08% chance that exactly 5 devotees visit in one hour.\n",
        "\n",
        "Real-Life Applications of Poisson Processes:\n",
        "\n",
        "Number of customer arrivals at a bank per hour.\n",
        "\n",
        "Number of emails received per hour.'''"
      ],
      "metadata": {
        "colab": {
          "base_uri": "https://localhost:8080/",
          "height": 70
        },
        "id": "9EwpEt00GdSO",
        "outputId": "70088f35-1573-4cfe-eb0f-f76a5a805a90"
      },
      "execution_count": null,
      "outputs": [
        {
          "output_type": "stream",
          "name": "stdout",
          "text": [
            "Probability that exactly 5 devotees arrive in one hour: 10.08%\n"
          ]
        },
        {
          "output_type": "execute_result",
          "data": {
            "text/plain": [
              "'Answer would be : approximately 10.08% chance that exactly 5 devotees visit in one hour.\\n\\nReal-Life Applications of Poisson Processes:\\n\\nNumber of customer arrivals at a bank per hour.\\n\\nNumber of emails received per hour.'"
            ],
            "application/vnd.google.colaboratory.intrinsic+json": {
              "type": "string"
            }
          },
          "metadata": {},
          "execution_count": 16
        }
      ]
    },
    {
      "cell_type": "markdown",
      "source": [
        "#Q 11. Explain what a random variable is and differentiate between discrete and continuous random variables.\n",
        "\n",
        "->\n",
        "A random variable is a numerical value that represents the outcome of a random phenomenon.It's a bridge between outcomes and numbers.\n",
        "\n",
        "It can be discrete or continuous, depending on the type of outcomes it represents.\n",
        "\n",
        "Two Main Types of Random Variables\n",
        "\n",
        "  1. Discrete Random Variable\n",
        "\n",
        "      A discrete random variable can take on countable values. These are often whole numbers and can be counted.\n",
        "\n",
        "       Examples:\n",
        "\n",
        "        Number of heads in 10 coin tosses (0, 1, 2, ..., 10)\n",
        "\n",
        "\n",
        "2. Continuous Random Variable:\n",
        "\n",
        "      A continuous random variable can take on any value within a given range,  the values are uncountable.\n",
        "\n",
        "      Examples:\n",
        "\n",
        "     Height of students in a class (e.g., 165.2 cm)\n",
        "\n",
        "The probability of a single exact value is zero here and probabilities are found over intervals."
      ],
      "metadata": {
        "id": "tMUFFGJH9Q6M"
      }
    },
    {
      "cell_type": "code",
      "source": [
        "'''Q 12. Provide an example dataset, calculate both covariance\n",
        "    and correlation, and interpret the results.\n",
        "\n",
        " Ans->\n",
        "\n",
        "Data-Set:\n",
        "\n",
        "As per given data-set there are five students A,B,C,D,E.\n",
        "A studies 2 hour,B- 4 hour,C-6 hour,D-8 hour,E- 10 hour and\n",
        " scores 65,70,75,80,85 respectively.'''\n",
        "\n",
        "\n",
        "# calculate mean hour and mean score\n",
        "\n",
        "hours_studied= [2,4,6,8,10]\n",
        "marks_scored= [65,70,75,80,85]\n",
        "\n",
        "import numpy as np\n",
        "\n",
        "mean_hour = np.mean(hours_studied)\n",
        "\n",
        "mean_score= np.mean(marks_scored)\n",
        "\n",
        "\n",
        "print(mean_hour)\n",
        "print(mean_score)\n",
        "\n",
        "# calculte covariance\n",
        "\n",
        "\n",
        "x = np.array([2, 4, 6, 8, 10])\n",
        "y = np.array([65,70,75,80,85])\n",
        "\n",
        "# Covariance matrix\n",
        "cov_matrix = np.cov(x, y)\n",
        "covariance = cov_matrix[0, 1]\n",
        "print(\"Covariance:\", covariance)\n",
        "\n",
        "# Correlation coefficient matrix\n",
        "corr_matrix = np.corrcoef(x, y)\n",
        "correlation = corr_matrix[0, 1]\n",
        "print(\"Correlation:\", correlation)\n",
        "\n",
        "\n",
        "''' hour mean =6.0\n",
        "   score mean =75.0\n",
        "   Covariance =  25.0\n",
        "  Correlation = 1.0\n",
        "\n",
        "Interpretation:\n",
        "Covariance = 25\n",
        "→ Indicates a positive relationship: as hours studied increase, exam scores increase.\n",
        " However, covariance is scale-dependent, so it’s hard to interpret the strength directly.\n",
        "\n",
        "Correlation (r) = 1\n",
        "→ Indicates a perfect positive linear relationship.\n",
        "When one variable increases, the other increases in a perfectly predictable manner.'''\n",
        "\n",
        "\n",
        "\n",
        "\n",
        "\n",
        "\n",
        "\n",
        "\n",
        "\n"
      ],
      "metadata": {
        "colab": {
          "base_uri": "https://localhost:8080/",
          "height": 140
        },
        "id": "qr0qCAqTA-xc",
        "outputId": "4ecb5554-9d81-485a-cf7c-d34fda67bdc3"
      },
      "execution_count": null,
      "outputs": [
        {
          "output_type": "stream",
          "name": "stdout",
          "text": [
            "6.0\n",
            "75.0\n",
            "Covariance: 25.0\n",
            "Correlation: 1.0\n"
          ]
        },
        {
          "output_type": "execute_result",
          "data": {
            "text/plain": [
              "' hour mean =6.0\\n   score mean =75.0\\n   Covariance =  25.0\\n  Correlation = 1.0 \\n  \\nInterpretation:\\nCovariance = 25\\n→ Indicates a positive relationship: as hours studied increase, exam scores increase.\\n However, covariance is scale-dependent, so it’s hard to interpret the strength directly.\\n\\nCorrelation (r) = 1\\n→ Indicates a perfect positive linear relationship. \\nWhen one variable increases, the other increases in a perfectly predictable manner.'"
            ],
            "application/vnd.google.colaboratory.intrinsic+json": {
              "type": "string"
            }
          },
          "metadata": {},
          "execution_count": 10
        }
      ]
    },
    {
      "cell_type": "markdown",
      "source": [],
      "metadata": {
        "id": "xmnbPqCqDcZw"
      }
    }
  ]
}